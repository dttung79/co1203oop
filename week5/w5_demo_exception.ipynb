{
 "cells": [
  {
   "cell_type": "code",
   "execution_count": 9,
   "metadata": {},
   "outputs": [
    {
     "name": "stdout",
     "output_type": "stream",
     "text": [
      "Cannot divide by zero\n"
     ]
    }
   ],
   "source": [
    "# Handling multiple exceptions to stop program normally when an exception occurs\n",
    "try:\n",
    "    a = int(input('Enter a: '))\n",
    "    b = int(input('Enter b: '))\n",
    "    c = a / b\n",
    "    print(f'{a} / {b} = {c:.2f}')\n",
    "except ValueError:\n",
    "    print('Invalid input')\n",
    "except ZeroDivisionError:\n",
    "    print('Cannot divide by zero')"
   ]
  },
  {
   "cell_type": "code",
   "execution_count": 12,
   "metadata": {},
   "outputs": [
    {
     "name": "stdout",
     "output_type": "stream",
     "text": [
      "Index out of range\n"
     ]
    }
   ],
   "source": [
    "try:\n",
    "    a = [1, 2, 3]\n",
    "    i = int(input('Enter an index i: '))\n",
    "    j = int(input('Enter an index j: '))\n",
    "    c = a[i] / a[j]\n",
    "    print(f'{a[i]} / {a[j]} = {c:.2f}')\n",
    "except ValueError:\n",
    "    print('Invalid input')\n",
    "except ZeroDivisionError:\n",
    "    print('Cannot divide by zero')\n",
    "except IndexError:\n",
    "    print('Index out of range')"
   ]
  },
  {
   "cell_type": "code",
   "execution_count": 13,
   "metadata": {},
   "outputs": [],
   "source": [
    "# Using exception to recover from error\n",
    "def get_int(prompt):\n",
    "    valid = False\n",
    "    while not valid:\n",
    "        print(prompt, end='')\n",
    "        try:\n",
    "            n = int(input())\n",
    "            valid = True\n",
    "        except ValueError:\n",
    "            print('Invalid input')\n",
    "    return n"
   ]
  },
  {
   "cell_type": "code",
   "execution_count": 14,
   "metadata": {},
   "outputs": [
    {
     "name": "stdout",
     "output_type": "stream",
     "text": [
      "Enter a: Invalid input\n",
      "Enter a: Invalid input\n",
      "Enter a: Invalid input\n",
      "Enter a: 90\n"
     ]
    }
   ],
   "source": [
    "a = get_int('Enter a: ')\n",
    "print(a)"
   ]
  },
  {
   "cell_type": "code",
   "execution_count": 15,
   "metadata": {},
   "outputs": [],
   "source": [
    "# Raise exception for the code in lower level\n",
    "class Fraction:\n",
    "    def __init__(self, a, b):\n",
    "        # check b not zero\n",
    "        if b == 0:\n",
    "            raise ZeroDivisionError('Denominator cannot be zero')\n",
    "        # check a, b are integers\n",
    "        if type(a) != int or type(b) != int:\n",
    "            raise ValueError('Numerator and denominator must be integers')\n",
    "        self.__numerator = a\n",
    "        self.__denominator = b\n",
    "    \n",
    "    @property\n",
    "    def numerator(self):\n",
    "        return self.__numerator\n",
    "    \n",
    "    @numerator.setter\n",
    "    def numerator(self, a):\n",
    "        if type(a) != int:\n",
    "            raise ValueError('Numerator must be an integer')\n",
    "        self.__numerator = a\n",
    "    \n",
    "    @property\n",
    "    def denominator(self):\n",
    "        return self.__denominator\n",
    "    \n",
    "    @denominator.setter\n",
    "    def denominator(self, b):\n",
    "        if b == 0:\n",
    "            raise ZeroDivisionError('Denominator cannot be zero')\n",
    "        if type(b) != int:\n",
    "            raise ValueError('Denominator must be an integer')\n",
    "        self.__denominator = b\n",
    "        \n",
    "    def __str__(self):\n",
    "        return f'{self.__numerator}/{self.__denominator}'"
   ]
  },
  {
   "cell_type": "code",
   "execution_count": 16,
   "metadata": {},
   "outputs": [
    {
     "name": "stdout",
     "output_type": "stream",
     "text": [
      "1/2\n"
     ]
    }
   ],
   "source": [
    "f1 = Fraction(1, 2)     # Normal case, no error\n",
    "print(f1)"
   ]
  },
  {
   "cell_type": "code",
   "execution_count": null,
   "metadata": {},
   "outputs": [],
   "source": [
    "f2 = Fraction('1', 2)   # ValueError\n",
    "f3 = Fraction(1, '2')   # ValueError\n",
    "f4 = Fraction(1, 0)     # ZeroDivisionError"
   ]
  },
  {
   "cell_type": "code",
   "execution_count": 22,
   "metadata": {},
   "outputs": [
    {
     "name": "stdout",
     "output_type": "stream",
     "text": [
      "0/3\n"
     ]
    }
   ],
   "source": [
    "f1.denominator = 3    # Normal case, no error\n",
    "print(f1)"
   ]
  },
  {
   "cell_type": "code",
   "execution_count": null,
   "metadata": {},
   "outputs": [],
   "source": [
    "f1.denominator = 0    # ZeroDivisionError\n",
    "f1.denominator = 'hello'   # ValueError"
   ]
  },
  {
   "cell_type": "code",
   "execution_count": null,
   "metadata": {},
   "outputs": [],
   "source": [
    "# Raise exception for Pet class\n",
    "class Pet:\n",
    "    def __init__(self, name, age, owner):\n",
    "        self.__name = name          # __name is a private attribute\n",
    "        self.__age = age            # __age is a private attribute\n",
    "        self.__owner = owner          # owner is a private attribute\n",
    "    \n",
    "    def say_hi(self):\n",
    "        print(f'Hello, I\\'m {self.__name}, my owner is {self.__owner}')\n",
    "    \n",
    "    @property\n",
    "    def age(self):\n",
    "        return self.__age\n",
    "    \n",
    "    @age.setter\n",
    "    def age(self, value):\n",
    "        if value < 0:\n",
    "            raise ValueError('Age cannot be negative')\n",
    "        if type(value) != int:\n",
    "            raise ValueError('Age must be an integer')\n",
    "        self.__age = value\n",
    "        \n",
    "    @property\n",
    "    def name(self):\n",
    "        return self.__name\n",
    "    \n",
    "    @name.setter\n",
    "    def name(self, value):\n",
    "        if value == '':\n",
    "            raise ValueError('Name cannot be empty')\n",
    "        self.__name = value\n",
    "\n",
    "    @property\n",
    "    def owner(self):\n",
    "        return self.__owner\n",
    "    \n",
    "    @owner.setter\n",
    "    def owner(self, value):\n",
    "        if value == '':\n",
    "            raise ValueError('Owner cannot be empty')\n",
    "        self.__owner = value"
   ]
  }
 ],
 "metadata": {
  "kernelspec": {
   "display_name": "Python 3",
   "language": "python",
   "name": "python3"
  },
  "language_info": {
   "codemirror_mode": {
    "name": "ipython",
    "version": 3
   },
   "file_extension": ".py",
   "mimetype": "text/x-python",
   "name": "python",
   "nbconvert_exporter": "python",
   "pygments_lexer": "ipython3",
   "version": "3.12.4"
  }
 },
 "nbformat": 4,
 "nbformat_minor": 2
}

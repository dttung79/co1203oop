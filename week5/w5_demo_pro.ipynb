{
 "cells": [
  {
   "cell_type": "code",
   "execution_count": 1,
   "metadata": {},
   "outputs": [],
   "source": [
    "class Pet:\n",
    "    def __init__(self, name, age, owner):\n",
    "        self.__name = name          # __name is a private attribute\n",
    "        self.__age = age            # __age is a private attribute\n",
    "        self.__owner = owner          # owner is a public attribute\n",
    "    \n",
    "    def say_hi(self):\n",
    "        print(f'Hello, I\\'m {self.__name}, my owner is {self.__owner}')\n",
    "    \n",
    "    def get_age(self):\n",
    "        return self.__age\n",
    "\n",
    "    def set_age(self, age):\n",
    "        if age < 0:\n",
    "            print('Age cannot be negative')\n",
    "        else:\n",
    "            self.__age = age"
   ]
  },
  {
   "cell_type": "code",
   "execution_count": 2,
   "metadata": {},
   "outputs": [
    {
     "name": "stdout",
     "output_type": "stream",
     "text": [
      "Hello, I'm Max, my owner is Bob\n",
      "2\n",
      "10\n"
     ]
    }
   ],
   "source": [
    "dog = Pet('Max', 2, 'Bob')\n",
    "dog.say_hi()\n",
    "print(dog.get_age())\n",
    "dog.set_age(10)\n",
    "print(dog.get_age())"
   ]
  },
  {
   "cell_type": "code",
   "execution_count": 3,
   "metadata": {},
   "outputs": [],
   "source": [
    "class Pet:\n",
    "    def __init__(self, name, age, owner):\n",
    "        self.__name = name          # __name is a private attribute\n",
    "        self.__age = age            # __age is a private attribute\n",
    "        self.__owner = owner          # owner is a private attribute\n",
    "    \n",
    "    def say_hi(self):\n",
    "        print(f'Hello, I\\'m {self.__name}, my owner is {self.__owner}')\n",
    "    \n",
    "    @property\n",
    "    def age(self):\n",
    "        return self.__age\n",
    "    \n",
    "    @age.setter\n",
    "    def age(self, value):\n",
    "        if value < 0:\n",
    "            print('Age cannot be negative')\n",
    "        else:\n",
    "            self.__age = value\n",
    "        \n",
    "    @property\n",
    "    def name(self):\n",
    "        return self.__name\n",
    "    \n",
    "    @name.setter\n",
    "    def name(self, value):\n",
    "        if value == '':\n",
    "            print('Name cannot be empty')\n",
    "        else:\n",
    "            self.__name = value\n",
    "\n",
    "    @property\n",
    "    def owner(self):\n",
    "        return self.__owner\n",
    "    \n",
    "    @owner.setter\n",
    "    def owner(self, value):\n",
    "        if value == '':\n",
    "            print('Owner cannot be empty')\n",
    "        else:\n",
    "            self.__owner = value"
   ]
  },
  {
   "cell_type": "code",
   "execution_count": 5,
   "metadata": {},
   "outputs": [
    {
     "name": "stdout",
     "output_type": "stream",
     "text": [
      "Hello, I'm Max, my owner is Bob\n",
      "2\n",
      "10\n",
      "Age cannot be negative\n",
      "10\n"
     ]
    }
   ],
   "source": [
    "dog = Pet('Max', 2, 'Bob')\n",
    "dog.say_hi()\n",
    "print(dog.age)\n",
    "dog.age = 10\n",
    "print(dog.age)\n",
    "dog.age = -1 # Age cannot be negative\n",
    "print(dog.age)"
   ]
  }
 ],
 "metadata": {
  "kernelspec": {
   "display_name": "Python 3",
   "language": "python",
   "name": "python3"
  },
  "language_info": {
   "codemirror_mode": {
    "name": "ipython",
    "version": 3
   },
   "file_extension": ".py",
   "mimetype": "text/x-python",
   "name": "python",
   "nbconvert_exporter": "python",
   "pygments_lexer": "ipython3",
   "version": "3.12.4"
  }
 },
 "nbformat": 4,
 "nbformat_minor": 2
}

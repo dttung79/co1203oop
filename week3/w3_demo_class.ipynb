{
 "cells": [
  {
   "cell_type": "code",
   "execution_count": 1,
   "metadata": {},
   "outputs": [],
   "source": [
    "# define class Pet\n",
    "class Pet:\n",
    "    # define constructor, in which we initialize the attributes\n",
    "    # parameters:\n",
    "    # - self: the object it self when initializing\n",
    "    # - name: name of the pet object\n",
    "    # - age: age of the pet object\n",
    "    # - owner: owner of the pet object\n",
    "    def __init__(self, name, age, owner):\n",
    "        self.name = name        # assign attribute name to the parameter name\n",
    "        self.age = age\n",
    "        self.owner = owner\n",
    "    \n",
    "    # all methods of class need self parameter to access to the attributes of object\n",
    "    def say_hi(self):\n",
    "        print(f'Hello, I\\'m {self.name}, my owner is {self.owner}')"
   ]
  },
  {
   "cell_type": "code",
   "execution_count": 3,
   "metadata": {},
   "outputs": [
    {
     "name": "stdout",
     "output_type": "stream",
     "text": [
      "Hello, I'm Tom, my owner is Anna\n",
      "Hello, I'm Jerry, my owner is Bob\n"
     ]
    }
   ],
   "source": [
    "# create object from class\n",
    "tom = Pet('Tom', 2, 'Anna') # call the constructor\n",
    "# call say_hi through tom object\n",
    "tom.say_hi()\n",
    "# create another object\n",
    "jerry = Pet('Jerry', 3, 'Bob')\n",
    "jerry.say_hi()"
   ]
  },
  {
   "cell_type": "code",
   "execution_count": 4,
   "metadata": {},
   "outputs": [
    {
     "name": "stdout",
     "output_type": "stream",
     "text": [
      "Tom is 2 years old.\n"
     ]
    }
   ],
   "source": [
    "# access age attribute of Pet object\n",
    "print(f'{tom.name} is {tom.age} years old.') # reading access"
   ]
  },
  {
   "cell_type": "code",
   "execution_count": 5,
   "metadata": {},
   "outputs": [
    {
     "name": "stdout",
     "output_type": "stream",
     "text": [
      "Jerry is 5 years old\n"
     ]
    }
   ],
   "source": [
    "jerry.age = 5 # writing access\n",
    "print(f'{jerry.name} is {jerry.age} years old')"
   ]
  },
  {
   "cell_type": "code",
   "execution_count": 9,
   "metadata": {},
   "outputs": [],
   "source": [
    "class Student:\n",
    "    def __init__(self, id, name, math, english, literature):\n",
    "        self.id = id\n",
    "        self.name = name\n",
    "        self.math = math\n",
    "        self.english = english\n",
    "        self.literature = literature\n",
    "    \n",
    "    def show(self):\n",
    "        print(f'ID: {self.id}, name: {self.name}, GPA: {self.gpa():.2f}')\n",
    "    \n",
    "    def gpa(self):\n",
    "        return (self.math + self.english + self.literature) / 3"
   ]
  },
  {
   "cell_type": "code",
   "execution_count": 10,
   "metadata": {},
   "outputs": [
    {
     "name": "stdout",
     "output_type": "stream",
     "text": [
      "ID: 1, name: John, GPA: 8.33\n"
     ]
    }
   ],
   "source": [
    "name = 'John'\n",
    "id = 1\n",
    "math = 9\n",
    "english = 8.5\n",
    "literature = 7.5\n",
    "\n",
    "s = Student(id, name, math, english, literature)\n",
    "s.show()"
   ]
  },
  {
   "cell_type": "code",
   "execution_count": 11,
   "metadata": {},
   "outputs": [
    {
     "name": "stdout",
     "output_type": "stream",
     "text": [
      "Math: 9, English: 8.5, Literature: 7.5\n"
     ]
    }
   ],
   "source": [
    "print(f'Math: {s.math}, English: {s.english}, Literature: {s.literature}')"
   ]
  }
 ],
 "metadata": {
  "kernelspec": {
   "display_name": "Python 3",
   "language": "python",
   "name": "python3"
  },
  "language_info": {
   "codemirror_mode": {
    "name": "ipython",
    "version": 3
   },
   "file_extension": ".py",
   "mimetype": "text/x-python",
   "name": "python",
   "nbconvert_exporter": "python",
   "pygments_lexer": "ipython3",
   "version": "3.12.4"
  }
 },
 "nbformat": 4,
 "nbformat_minor": 2
}

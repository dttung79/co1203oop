{
 "cells": [
  {
   "cell_type": "code",
   "execution_count": 6,
   "metadata": {},
   "outputs": [],
   "source": [
    "class Pet:\n",
    "    def __init__(self, name, age, owner):\n",
    "        self.name = name        # assign attribute name to the parameter name\n",
    "        self.age = age\n",
    "        self.owner = owner\n",
    "    \n",
    "    def say_hi(self):\n",
    "        print(f'Hello, I\\'m {self.name}, my owner is {self.owner}')"
   ]
  },
  {
   "cell_type": "code",
   "execution_count": 7,
   "metadata": {},
   "outputs": [
    {
     "name": "stdout",
     "output_type": "stream",
     "text": [
      "Hello, I'm Max, my owner is Alice\n",
      "3\n"
     ]
    }
   ],
   "source": [
    "p = Pet('Max', 3, 'Alice')\n",
    "p.say_hi()\n",
    "print(p.age)"
   ]
  },
  {
   "cell_type": "code",
   "execution_count": 8,
   "metadata": {},
   "outputs": [
    {
     "name": "stdout",
     "output_type": "stream",
     "text": [
      "Hello, I'm Max, my owner is Tom\n"
     ]
    }
   ],
   "source": [
    "p.owner = 'Tom'\n",
    "p.say_hi()"
   ]
  },
  {
   "cell_type": "code",
   "execution_count": 9,
   "metadata": {},
   "outputs": [
    {
     "name": "stdout",
     "output_type": "stream",
     "text": [
      "Hello, I'm Max, my owner is \n"
     ]
    }
   ],
   "source": [
    "p.owner = ''\n",
    "p.say_hi()"
   ]
  },
  {
   "cell_type": "code",
   "execution_count": 23,
   "metadata": {},
   "outputs": [],
   "source": [
    "# Version 2 of Pet which hide some attributes and provide getter and setter for private\n",
    "class Pet:\n",
    "    def __init__(self, name, age, owner):\n",
    "        self.__name = name          # __name is a private attribute\n",
    "        self.__age = age            # __age is a private attribute\n",
    "        self.owner = owner          # owner is a public attribute\n",
    "    \n",
    "    def say_hi(self):\n",
    "        print(f'Hello, I\\'m {self.__name}, my owner is {self.owner}')\n",
    "    \n",
    "    def get_age(self):\n",
    "        return self.__age\n",
    "\n",
    "    def set_age(self, age):\n",
    "        if age < 0:\n",
    "            print('Age cannot be negative')\n",
    "        else:\n",
    "            self.__age = age"
   ]
  },
  {
   "cell_type": "code",
   "execution_count": 25,
   "metadata": {},
   "outputs": [
    {
     "name": "stdout",
     "output_type": "stream",
     "text": [
      "Hello, I'm Max, my owner is Alice\n",
      "Hello, I'm Max, my owner is Tom\n"
     ]
    }
   ],
   "source": [
    "p = Pet('Max', 3, 'Alice')\n",
    "p.say_hi()\n",
    "p.owner = 'Tom'\n",
    "p.say_hi()"
   ]
  },
  {
   "cell_type": "code",
   "execution_count": 28,
   "metadata": {},
   "outputs": [
    {
     "name": "stdout",
     "output_type": "stream",
     "text": [
      "Hello, I'm Max, my owner is Tom\n",
      "3\n",
      "Age cannot be negative\n",
      "3\n",
      "5\n"
     ]
    }
   ],
   "source": [
    "p.__name = 'Aladin'\n",
    "p.say_hi()\n",
    "print(p.get_age())\n",
    "p.set_age(-1)\n",
    "print(p.get_age())\n",
    "p.set_age(5)\n",
    "print(p.get_age())"
   ]
  }
 ],
 "metadata": {
  "kernelspec": {
   "display_name": "Python 3",
   "language": "python",
   "name": "python3"
  },
  "language_info": {
   "codemirror_mode": {
    "name": "ipython",
    "version": 3
   },
   "file_extension": ".py",
   "mimetype": "text/x-python",
   "name": "python",
   "nbconvert_exporter": "python",
   "pygments_lexer": "ipython3",
   "version": "3.12.4"
  }
 },
 "nbformat": 4,
 "nbformat_minor": 2
}

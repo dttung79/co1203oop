{
 "cells": [
  {
   "cell_type": "code",
   "execution_count": 1,
   "metadata": {},
   "outputs": [
    {
     "name": "stdout",
     "output_type": "stream",
     "text": [
      "Guest in room 202 is Bob\n"
     ]
    }
   ],
   "source": [
    "# define a dictionary: d = {key: value, ...}\n",
    "rooms = {201: 'Alice', 202: 'Bob', 203: 'Charlie'} # room is key, guest is value\n",
    "# key is unique, value can be duplicated\n",
    "# access value by key: d[key]\n",
    "print(f'Guest in room 202 is {rooms[202]}')"
   ]
  },
  {
   "cell_type": "code",
   "execution_count": 3,
   "metadata": {},
   "outputs": [
    {
     "name": "stdout",
     "output_type": "stream",
     "text": [
      "Room 201 is occupied by Alice\n",
      "Room 202 is occupied by Bob\n",
      "Room 203 is occupied by Charlie\n"
     ]
    }
   ],
   "source": [
    "# Loop through the dictionary: for key, value in d.items():\n",
    "for room, guest in rooms.items():\n",
    "    print(f'Room {room} is occupied by {guest}')"
   ]
  },
  {
   "cell_type": "code",
   "execution_count": 5,
   "metadata": {},
   "outputs": [
    {
     "name": "stdout",
     "output_type": "stream",
     "text": [
      "Guest in room 204 is David\n",
      "{201: 'Alice', 202: 'Bob', 203: 'Charlie', 204: 'David'}\n"
     ]
    }
   ],
   "source": [
    "# Add a new key-value pair: d[key] = value\n",
    "rooms[204] = 'David'\n",
    "print(f'Guest in room 204 is {rooms[204]}')\n",
    "print(rooms)"
   ]
  },
  {
   "cell_type": "code",
   "execution_count": 6,
   "metadata": {},
   "outputs": [
    {
     "name": "stdout",
     "output_type": "stream",
     "text": [
      "Guest in room 204 is Eve\n",
      "{201: 'Alice', 202: 'Bob', 203: 'Charlie', 204: 'Eve'}\n"
     ]
    }
   ],
   "source": [
    "# Edit a value: d[key] = new_value\n",
    "rooms[204] = 'Eve'\n",
    "print(f'Guest in room 204 is {rooms[204]}')\n",
    "print(rooms)"
   ]
  },
  {
   "cell_type": "code",
   "execution_count": 7,
   "metadata": {},
   "outputs": [
    {
     "name": "stdout",
     "output_type": "stream",
     "text": [
      "{201: 'Alice', 202: 'Bob', 203: 'Charlie'}\n"
     ]
    }
   ],
   "source": [
    "# Delete a key-value pair: del d[key]\n",
    "del rooms[204]\n",
    "print(rooms)"
   ]
  }
 ],
 "metadata": {
  "kernelspec": {
   "display_name": "Python 3",
   "language": "python",
   "name": "python3"
  },
  "language_info": {
   "codemirror_mode": {
    "name": "ipython",
    "version": 3
   },
   "file_extension": ".py",
   "mimetype": "text/x-python",
   "name": "python",
   "nbconvert_exporter": "python",
   "pygments_lexer": "ipython3",
   "version": "3.9.12"
  }
 },
 "nbformat": 4,
 "nbformat_minor": 2
}

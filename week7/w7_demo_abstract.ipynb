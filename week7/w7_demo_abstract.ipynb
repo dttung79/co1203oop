{
 "cells": [
  {
   "cell_type": "code",
   "execution_count": null,
   "metadata": {},
   "outputs": [],
   "source": [
    "# Abstract method is a method that is declared in the base class but does not have any implementation.\n",
    "# Abstract class is a class that contains one or more abstract methods."
   ]
  },
  {
   "cell_type": "code",
   "execution_count": 1,
   "metadata": {},
   "outputs": [],
   "source": [
    "from abc import ABC, abstractmethod\n",
    "class Parent(ABC):  # to make a class abstract, inherit from ABC\n",
    "    def __init__(self, data):\n",
    "        self.data = data\n",
    "    \n",
    "    @abstractmethod\n",
    "    def do_something(self): # to make a method abstract, use the decorator @abstractmethod\n",
    "        pass\n",
    "    # normal method\n",
    "    def do_other(self):\n",
    "        print(f\"My data is {self.data}\")"
   ]
  },
  {
   "cell_type": "code",
   "execution_count": null,
   "metadata": {},
   "outputs": [],
   "source": [
    "# Cannot create object of abstract class\n",
    "p = Parent(10) # Error because Parent is abstract class"
   ]
  },
  {
   "cell_type": "code",
   "execution_count": 3,
   "metadata": {},
   "outputs": [],
   "source": [
    "class Child(Parent):\n",
    "    def __init__(self, data, child_data):\n",
    "        super().__init__(data)\n",
    "        self.child_data = child_data\n",
    "    \n",
    "    # override abstract method do_something\n",
    "    def do_something(self):\n",
    "        print(f\"Child data is {self.child_data}\")"
   ]
  },
  {
   "cell_type": "code",
   "execution_count": null,
   "metadata": {},
   "outputs": [],
   "source": [
    "c = Child(10, 20)\n",
    "c.do_something()\n",
    "c.do_other()"
   ]
  },
  {
   "cell_type": "code",
   "execution_count": 5,
   "metadata": {},
   "outputs": [],
   "source": [
    "class AnotherChild(Parent):\n",
    "    def __init__(self, data):\n",
    "        super().__init__(data)\n",
    "    \n",
    "    def do_somethinh(self): # misspelled method name, do_something still not implemented\n",
    "        print(\"AnotherChild do_something\")"
   ]
  },
  {
   "cell_type": "code",
   "execution_count": 6,
   "metadata": {},
   "outputs": [
    {
     "ename": "TypeError",
     "evalue": "Can't instantiate abstract class AnotherChild without an implementation for abstract method 'do_something'",
     "output_type": "error",
     "traceback": [
      "\u001b[0;31m---------------------------------------------------------------------------\u001b[0m",
      "\u001b[0;31mTypeError\u001b[0m                                 Traceback (most recent call last)",
      "Cell \u001b[0;32mIn[6], line 1\u001b[0m\n\u001b[0;32m----> 1\u001b[0m ac \u001b[38;5;241m=\u001b[39m \u001b[43mAnotherChild\u001b[49m\u001b[43m(\u001b[49m\u001b[38;5;241;43m10\u001b[39;49m\u001b[43m)\u001b[49m\n\u001b[1;32m      2\u001b[0m ac\u001b[38;5;241m.\u001b[39mdo_something()\n",
      "\u001b[0;31mTypeError\u001b[0m: Can't instantiate abstract class AnotherChild without an implementation for abstract method 'do_something'"
     ]
    }
   ],
   "source": [
    "ac = AnotherChild(10)   # Error because do_something is not implemented\n",
    "ac.do_something()"
   ]
  },
  {
   "cell_type": "code",
   "execution_count": null,
   "metadata": {},
   "outputs": [],
   "source": []
  }
 ],
 "metadata": {
  "kernelspec": {
   "display_name": "Python 3",
   "language": "python",
   "name": "python3"
  },
  "language_info": {
   "codemirror_mode": {
    "name": "ipython",
    "version": 3
   },
   "file_extension": ".py",
   "mimetype": "text/x-python",
   "name": "python",
   "nbconvert_exporter": "python",
   "pygments_lexer": "ipython3",
   "version": "3.12.4"
  }
 },
 "nbformat": 4,
 "nbformat_minor": 2
}
